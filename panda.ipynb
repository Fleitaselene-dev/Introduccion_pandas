{
 "cells": [
  {
   "cell_type": "markdown",
   "id": "3f2761d5",
   "metadata": {},
   "source": [
    "# Introducción a Pandas para ciencia de datos - Series.\n",
    "\n",
    "1. Para crear una serie, primero debemos preparar  nuestro entorno virtual, donde vamos a trabajar.\n",
    "\n",
    "En Windows\n",
    " `py -m venv env`\n",
    "\n",
    "En Linux y Mac\n",
    "`python3 -m venv env`\n",
    "\n",
    "2. Activar el entorno virtual\n",
    "\n",
    "En Windows\n",
    "`.\\env\\Script\\activate\\`\n",
    "En Linux y Mac\n",
    "`source env/bin/activate`\n",
    "3. Instalar Pandas\n",
    "`pip install pandas`\n"
   ]
  },
  {
   "cell_type": "markdown",
   "id": "419854c3",
   "metadata": {},
   "source": [
    "### Crear una serie\n",
    "**Primero, importamos la libreria Pandas y le asignamos el alias `pd`.**"
   ]
  },
  {
   "cell_type": "code",
   "execution_count": 3,
   "id": "7016afd6",
   "metadata": {},
   "outputs": [],
   "source": [
    "import pandas as pd\n",
    "from pandas import Series\n",
    "import random\n",
    "from random import randint"
   ]
  },
  {
   "cell_type": "markdown",
   "id": "34556c05",
   "metadata": {},
   "source": [
    "Ahora, vamos a definir nuestra primera Series, para eso utilizaremos Series de pandas\n",
    "utilizaremos este ejemplo por ahora: \n",
    "\n",
    "`lista = [random.randint(1,100) for i in range(10)]`"
   ]
  },
  {
   "cell_type": "code",
   "execution_count": 4,
   "id": "09023a32",
   "metadata": {},
   "outputs": [
    {
     "data": {
      "text/plain": [
       "[53, 66, 10, 40, 42, 79, 71, 69, 41, 52]"
      ]
     },
     "execution_count": 4,
     "metadata": {},
     "output_type": "execute_result"
    }
   ],
   "source": [
    "lista = [random.randint(1,100) for i in range(10)]\n",
    "lista\n"
   ]
  },
  {
   "cell_type": "markdown",
   "id": "f3ef2449",
   "metadata": {},
   "source": [
    "Utilizaremos la lista aleatoria para generar nuestra primera Series"
   ]
  },
  {
   "cell_type": "code",
   "execution_count": 5,
   "id": "b59b08c7",
   "metadata": {},
   "outputs": [
    {
     "data": {
      "text/plain": [
       "0    53\n",
       "1    66\n",
       "2    10\n",
       "3    40\n",
       "4    42\n",
       "5    79\n",
       "6    71\n",
       "7    69\n",
       "8    41\n",
       "9    52\n",
       "dtype: int64"
      ]
     },
     "execution_count": 5,
     "metadata": {},
     "output_type": "execute_result"
    }
   ],
   "source": [
    "nueva_serie= Series(lista)\n",
    "nueva_serie"
   ]
  },
  {
   "cell_type": "markdown",
   "id": "2e0b8317",
   "metadata": {},
   "source": [
    "### Cambiando el index\n",
    "Con los datos generados, ahora crearemos un index para los valores actuales. \n",
    "[\"Manzanas\", \"Pan\", \"Leche\", \"Huevos\", \"Arroz\", \"Pollo\", \"Tomates\", \"Aceite de oliva\", \"Queso\", \"Café\"]"
   ]
  },
  {
   "cell_type": "code",
   "execution_count": 8,
   "id": "5d87de1e",
   "metadata": {},
   "outputs": [
    {
     "data": {
      "text/plain": [
       "Manzanas           53\n",
       "Pan                66\n",
       "Leche              10\n",
       "Huevos             40\n",
       "Arroz              42\n",
       "Pollo              79\n",
       "Tomates            71\n",
       "Aceite de oliva    69\n",
       "Queso              41\n",
       "Café               52\n",
       "dtype: int64"
      ]
     },
     "execution_count": 8,
     "metadata": {},
     "output_type": "execute_result"
    }
   ],
   "source": [
    "\n",
    "index = [\"Manzanas\", \"Pan\", \"Leche\", \"Huevos\", \"Arroz\", \"Pollo\", \"Tomates\", \"Aceite de oliva\", \"Queso\", \"Café\"]\n",
    "nueva_serie = Series(lista, index=index)\n",
    "nueva_serie"
   ]
  },
  {
   "cell_type": "markdown",
   "id": "cc1573c1",
   "metadata": {},
   "source": [
    "### Crear series a partir de Diccionarios\n",
    "\n",
    "En este caso las key tomaran el valor del index de las series, utilizaremos este ejemplo para mostrarlo\n",
    "\n",
    "notas = {\"matematicas\":60, \"lengua\":20, \"historia\":0 }"
   ]
  },
  {
   "cell_type": "code",
   "execution_count": 9,
   "id": "7c5a2003",
   "metadata": {},
   "outputs": [
    {
     "data": {
      "text/plain": [
       "matematicas    60\n",
       "lengua         20\n",
       "historia        0\n",
       "dtype: int64"
      ]
     },
     "execution_count": 9,
     "metadata": {},
     "output_type": "execute_result"
    }
   ],
   "source": [
    "notas = {\"matematicas\":60, \"lengua\":20, \"historia\":0 }\n",
    "materias = Series(notas)\n",
    "materias"
   ]
  },
  {
   "cell_type": "markdown",
   "id": "55cdd751",
   "metadata": {},
   "source": [
    "## Metodos Básicos\n"
   ]
  },
  {
   "cell_type": "markdown",
   "id": "ac31966a",
   "metadata": {},
   "source": [
    "### Acceder a los primeros 5 elementos\n",
    "Con el metodo `head()` podemos acceder a los primeros 5 elementos, tambien podemos especificarle la cantidad que queremos observar. "
   ]
  },
  {
   "cell_type": "code",
   "execution_count": 10,
   "id": "4f888fa7",
   "metadata": {},
   "outputs": [
    {
     "data": {
      "text/plain": [
       "Manzanas    53\n",
       "Pan         66\n",
       "Leche       10\n",
       "Huevos      40\n",
       "Arroz       42\n",
       "dtype: int64"
      ]
     },
     "execution_count": 10,
     "metadata": {},
     "output_type": "execute_result"
    }
   ],
   "source": [
    "nueva_serie.head()"
   ]
  },
  {
   "cell_type": "markdown",
   "id": "303859d2",
   "metadata": {},
   "source": [
    "### Acceder a los ultimos elementos\n",
    "Con el metodo `tail()` podemos ver los ultimos registros. (pasarle un indice si se requiere, de lo contrario solo seran 5 al igual que head)"
   ]
  },
  {
   "cell_type": "code",
   "execution_count": 11,
   "id": "28b5437f",
   "metadata": {},
   "outputs": [
    {
     "data": {
      "text/plain": [
       "Pollo              79\n",
       "Tomates            71\n",
       "Aceite de oliva    69\n",
       "Queso              41\n",
       "Café               52\n",
       "dtype: int64"
      ]
     },
     "execution_count": 11,
     "metadata": {},
     "output_type": "execute_result"
    }
   ],
   "source": [
    "nueva_serie.tail()"
   ]
  },
  {
   "cell_type": "markdown",
   "id": "7b8022ec",
   "metadata": {},
   "source": [
    "### Obtener valores maximos, minimos, promedio, desviacion estandar y media\n",
    "\n",
    "Para ello, utilizaremos los siguientes metodos: \n",
    "* max() <- valor máximo.\n",
    "* min() <- valor mínimo. \n",
    "* mean() <- valor promedio.\n",
    "* std()  <- obtener desviacion estandar\n",
    "* median() obtener la media"
   ]
  },
  {
   "cell_type": "code",
   "execution_count": 14,
   "id": "cf97490b",
   "metadata": {},
   "outputs": [
    {
     "data": {
      "text/plain": [
       "np.float64(52.5)"
      ]
     },
     "execution_count": 14,
     "metadata": {},
     "output_type": "execute_result"
    }
   ],
   "source": [
    "\n",
    "nueva_serie.median()\n"
   ]
  },
  {
   "cell_type": "markdown",
   "id": "596ed953",
   "metadata": {},
   "source": [
    "### Aplicar condiciones\n",
    "Podemos filtrar valores utilizando condiciones"
   ]
  },
  {
   "cell_type": "code",
   "execution_count": 15,
   "id": "3df6184f",
   "metadata": {},
   "outputs": [
    {
     "data": {
      "text/plain": [
       "Manzanas            True\n",
       "Pan                 True\n",
       "Leche              False\n",
       "Huevos             False\n",
       "Arroz              False\n",
       "Pollo               True\n",
       "Tomates             True\n",
       "Aceite de oliva     True\n",
       "Queso              False\n",
       "Café                True\n",
       "dtype: bool"
      ]
     },
     "execution_count": 15,
     "metadata": {},
     "output_type": "execute_result"
    }
   ],
   "source": [
    "nueva_serie>50"
   ]
  },
  {
   "cell_type": "markdown",
   "id": "0c79ffd0",
   "metadata": {},
   "source": [
    "Podemos mejorar los resultados utilizando la siguiente estructura: \n",
    "\n",
    "`serie[serie condicion valor]`"
   ]
  },
  {
   "cell_type": "code",
   "execution_count": 17,
   "id": "01247623",
   "metadata": {},
   "outputs": [
    {
     "data": {
      "text/plain": [
       "Manzanas           53\n",
       "Pan                66\n",
       "Pollo              79\n",
       "Tomates            71\n",
       "Aceite de oliva    69\n",
       "Café               52\n",
       "dtype: int64"
      ]
     },
     "execution_count": 17,
     "metadata": {},
     "output_type": "execute_result"
    }
   ],
   "source": [
    "nueva_serie[nueva_serie>50 ]"
   ]
  },
  {
   "cell_type": "markdown",
   "id": "79034137",
   "metadata": {},
   "source": [
    "### Operaciones Básicas con Series en Pandas\n",
    "\n",
    "Las Series en pandas permiten realizar operaciones matemáticas y lógicas de manera sencilla. Algunas de las operaciones básicas son:\n",
    "\n"
   ]
  },
  {
   "cell_type": "markdown",
   "id": "e36ed0e9",
   "metadata": {},
   "source": [
    "**Suma, Resta, Multiplicación y División**:\n",
    "    Puedes realizar operaciones aritméticas directamente entre Series o con valores escalares.\n",
    "\n",
    "    Ejemplo:\n",
    "    ```python\n",
    "    nueva_series + 10  # Suma 10 a cada elemento de la Series\n",
    "    nueva_series * 2   # Multiplica cada elemento por 2\n",
    "    ```"
   ]
  },
  {
   "cell_type": "code",
   "execution_count": 18,
   "id": "eda13d3c",
   "metadata": {},
   "outputs": [
    {
     "data": {
      "text/plain": [
       "Manzanas           63\n",
       "Pan                76\n",
       "Leche              20\n",
       "Huevos             50\n",
       "Arroz              52\n",
       "Pollo              89\n",
       "Tomates            81\n",
       "Aceite de oliva    79\n",
       "Queso              51\n",
       "Café               62\n",
       "dtype: int64"
      ]
     },
     "execution_count": 18,
     "metadata": {},
     "output_type": "execute_result"
    }
   ],
   "source": [
    "nueva_serie + 10"
   ]
  },
  {
   "cell_type": "markdown",
   "id": "b6b514aa",
   "metadata": {},
   "source": [
    "\n",
    "**Operaciones entre Series**:\n",
    "    Si tienes dos Series con índices compatibles, puedes realizar operaciones entre ellas.\n",
    "\n",
    "    Ejemplo:\n",
    "    ```python\n",
    "    nueva_series + materias  # Combina valores de ambas Series según sus índices\n",
    "    ```\n",
    "\n",
    "**NOTA: en caso de que al sumar las series sean de diferentes tamaños, es decir, que los indices no coincidan, el resultado de los valores incorrectos sera NaN**\n",
    "\n",
    "**NOTA2: las sumas se hacen teniendo en cuenta el indice! no las posiciones en las que se muestran**"
   ]
  },
  {
   "cell_type": "code",
   "execution_count": 21,
   "id": "86c54fda",
   "metadata": {},
   "outputs": [
    {
     "data": {
      "text/plain": [
       "Manzanas           0\n",
       "Pan                0\n",
       "Leche              0\n",
       "Huevos             0\n",
       "Arroz              0\n",
       "Pollo              0\n",
       "Tomates            0\n",
       "Aceite de oliva    0\n",
       "Queso              0\n",
       "Café               0\n",
       "dtype: int64"
      ]
     },
     "execution_count": 21,
     "metadata": {},
     "output_type": "execute_result"
    }
   ],
   "source": [
    "nueva_serie - nueva_serie"
   ]
  },
  {
   "cell_type": "markdown",
   "id": "d600f5a6",
   "metadata": {},
   "source": [
    "### Propiedades fundamentales de las series.\n",
    "\n",
    "serie.size -> devuelve el numero de elementos de una serie\n",
    "\n",
    "serie.index -> devuelve una lista con los nombres de las filas (tambien valido para dataframes)\n",
    "\n",
    "serie.dtype ->  devuelve el tipo de datos de los elementos de la serie"
   ]
  },
  {
   "cell_type": "code",
   "execution_count": 25,
   "id": "7e9ee6f6",
   "metadata": {},
   "outputs": [
    {
     "data": {
      "text/plain": [
       "Index(['Manzanas', 'Pan', 'Leche', 'Huevos', 'Arroz', 'Pollo', 'Tomates',\n",
       "       'Aceite de oliva', 'Queso', 'Café'],\n",
       "      dtype='object')"
      ]
     },
     "execution_count": 25,
     "metadata": {},
     "output_type": "execute_result"
    }
   ],
   "source": [
    "nueva_serie.index"
   ]
  }
 ],
 "metadata": {
  "kernelspec": {
   "display_name": "env",
   "language": "python",
   "name": "python3"
  },
  "language_info": {
   "codemirror_mode": {
    "name": "ipython",
    "version": 3
   },
   "file_extension": ".py",
   "mimetype": "text/x-python",
   "name": "python",
   "nbconvert_exporter": "python",
   "pygments_lexer": "ipython3",
   "version": "3.13.2"
  }
 },
 "nbformat": 4,
 "nbformat_minor": 5
}
